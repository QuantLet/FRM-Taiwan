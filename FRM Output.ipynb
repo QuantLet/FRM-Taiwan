{
 "cells": [
  {
   "cell_type": "code",
   "execution_count": 79,
   "metadata": {},
   "outputs": [],
   "source": [
    "import numpy as np\n",
    "import pandas as pd\n",
    "import seaborn as sns\n",
    "import matplotlib.pyplot as plt\n",
    "from tqdm import tqdm"
   ]
  },
  {
   "cell_type": "code",
   "execution_count": 256,
   "metadata": {},
   "outputs": [
    {
     "name": "stdout",
     "output_type": "stream",
     "text": [
      "Cap_63\n",
      "Success!\n"
     ]
    },
    {
     "name": "stderr",
     "output_type": "stream",
     "text": [
      "100%|██████████| 49/49 [07:58<00:00,  9.76s/it]\n",
      "100%|██████████| 4143/4143 [01:16<00:00, 54.34it/s]\n"
     ]
    },
    {
     "name": "stdout",
     "output_type": "stream",
     "text": [
      "Cap_126\n",
      "Success!\n"
     ]
    },
    {
     "name": "stderr",
     "output_type": "stream",
     "text": [
      "100%|██████████| 49/49 [07:54<00:00,  9.68s/it]\n",
      "100%|██████████| 4080/4080 [01:09<00:00, 58.44it/s]\n"
     ]
    },
    {
     "name": "stdout",
     "output_type": "stream",
     "text": [
      "Ele_63\n",
      "Success!\n"
     ]
    },
    {
     "name": "stderr",
     "output_type": "stream",
     "text": [
      "100%|██████████| 43/43 [06:23<00:00,  8.91s/it]\n",
      "100%|██████████| 4143/4143 [00:49<00:00, 83.56it/s]\n"
     ]
    },
    {
     "name": "stdout",
     "output_type": "stream",
     "text": [
      "Ele_126\n",
      "Success!\n"
     ]
    },
    {
     "name": "stderr",
     "output_type": "stream",
     "text": [
      "100%|██████████| 43/43 [06:15<00:00,  8.74s/it]\n",
      "100%|██████████| 4080/4080 [00:48<00:00, 83.35it/s]\n"
     ]
    },
    {
     "name": "stdout",
     "output_type": "stream",
     "text": [
      "Fin_63\n",
      "Success!\n"
     ]
    },
    {
     "name": "stderr",
     "output_type": "stream",
     "text": [
      "100%|██████████| 29/29 [03:20<00:00,  6.93s/it]\n",
      "100%|██████████| 4143/4143 [00:13<00:00, 306.27it/s]\n"
     ]
    },
    {
     "name": "stdout",
     "output_type": "stream",
     "text": [
      "Fin_126\n",
      "Success!\n"
     ]
    },
    {
     "name": "stderr",
     "output_type": "stream",
     "text": [
      "100%|██████████| 29/29 [03:18<00:00,  6.83s/it]\n",
      "100%|██████████| 4080/4080 [00:13<00:00, 304.22it/s]\n"
     ]
    },
    {
     "name": "stdout",
     "output_type": "stream",
     "text": [
      "FinEle_63\n",
      "Success!\n"
     ]
    },
    {
     "name": "stderr",
     "output_type": "stream",
     "text": [
      "100%|██████████| 42/42 [06:09<00:00,  8.79s/it]\n",
      "100%|██████████| 4143/4143 [00:46<00:00, 89.06it/s]\n"
     ]
    },
    {
     "name": "stdout",
     "output_type": "stream",
     "text": [
      "FinEle_126\n",
      "Success!\n"
     ]
    },
    {
     "name": "stderr",
     "output_type": "stream",
     "text": [
      "100%|██████████| 42/42 [06:04<00:00,  8.68s/it]\n",
      "100%|██████████| 4080/4080 [00:45<00:00, 89.02it/s]\n"
     ]
    }
   ],
   "source": [
    "companies = ['Cap_63', 'Cap_126', 'Ele_63', 'Ele_126', 'Fin_63', 'Fin_126', 'FinEle_63', 'FinEle_126']\n",
    "\n",
    "for company in companies:\n",
    "    print(company)\n",
    "    sector, ws = company.split('_')[0], int(company.split('_')[1])\n",
    "    input_path = f'../01 Raw Data/{sector}'\n",
    "\n",
    "    macro = pd.read_csv('../01 Raw Data/Macro/macro.csv', index_col='Date')\n",
    "    stock_return = pd.read_csv(f'{input_path}/Stock returns.csv', index_col='Date')\n",
    "    stock_return = stock_return[stock_return.index.isin(macro.index)]\n",
    "    stock_rank = pd.read_csv(f'{input_path}/Top rank company.csv', index_col='Date', parse_dates=['Date'])\n",
    "    stock_rank = stock_rank[stock_rank.index.isin(macro.index)]\n",
    "    stock_select = pd.read_csv(f'{input_path}/Selected company.csv', index_col='Date', parse_dates=['Date'])\n",
    "    stock_select = stock_select[stock_select.index.isin(macro.index)]\n",
    "\n",
    "    # Lambda\n",
    "    full_lambda = np.zeros((stock_return.shape[0] - int(ws), len(stock_return.columns)))\n",
    "    for i in range(len(stock_return.columns)):\n",
    "        lambda_firm = pd.read_csv(f'{company}/lambda_{i+1}.csv')\n",
    "        full_lambda[:, i] = lambda_firm.iloc[:, 1].to_numpy()\n",
    "    full_lambda = pd.DataFrame(full_lambda)\n",
    "    full_lambda.index = stock_return.index[ws:]\n",
    "    full_lambda.index = pd.to_datetime(full_lambda.index)\n",
    "    full_lambda.index.name = None\n",
    "    full_lambda.columns = stock_return.columns\n",
    "\n",
    "    for date in full_lambda.index:\n",
    "        top_company = stock_rank.loc[date].values\n",
    "        top_company = [str(stock) for stock in top_company]\n",
    "        full_lambda.loc[date, ~full_lambda.columns.isin(top_company)] = np.nan\n",
    "    full_lambda.to_csv(f'{company}/full_lambda.csv', index=True, index_label='Date')\n",
    "\n",
    "    # Check point\n",
    "    if stock_select.iloc[ws:,:].equals(~full_lambda.isna()):\n",
    "        print('Success!')\n",
    "    else:\n",
    "        print('WARNING! Mismatch with the selected companies data!!!')\n",
    "\n",
    "    # New beta\n",
    "    full_variables = stock_return.columns.append(macro.columns)\n",
    "    for i in tqdm(range(0, len(stock_return.columns))):\n",
    "        beta = pd.read_csv(f'{company}/beta_{i+1}.csv', index_col=0)\n",
    "        new_beta = pd.DataFrame(np.nan, index=stock_return.index[ws:], columns=full_variables)\n",
    "        new_beta.drop(full_variables[i], axis=1, inplace=True)\n",
    "\n",
    "        j = 0\n",
    "        for date in stock_return.index[ws:]:\n",
    "            k = 0\n",
    "            for column in new_beta.columns:\n",
    "                if column in str(stock_rank.iloc[j].values):\n",
    "                    new_beta.loc[date, column] = beta.iloc[j,k]\n",
    "                    k += 1\n",
    "            j += 1\n",
    "        new_beta.iloc[:,-len(macro.columns):] = beta.iloc[:,-len(macro.columns):]\n",
    "        new_beta.to_csv(f'{company}/new_beta_{i+1}.csv', index=True, index_label='Date')\n",
    "\n",
    "\n",
    "    # Coefficient matrix\n",
    "    p = stock_return.shape[1] + macro.shape[1] - 1\n",
    "    full_beta = np.zeros((stock_return.shape[0] - ws, stock_return.shape[1] * p))\n",
    "\n",
    "    for i in range(stock_return.shape[1]):\n",
    "        beta_coin = pd.read_csv(f'{company}/new_beta_{i+1}.csv', index_col='Date')\n",
    "        full_beta[:, p*i:p*(i+1)] = beta_coin.values[:, :]\n",
    "\n",
    "    coef_list = []\n",
    "    for i in tqdm(range(stock_return.shape[0]-ws)):\n",
    "        day_coef = np.zeros((stock_return.shape[1], stock_return.shape[1]))\n",
    "        for j in range(stock_return.shape[1]):\n",
    "            coef_coin = full_beta[i, p*j:(p*(j+1)-macro.shape[1])]\n",
    "            coef_coin = np.insert(coef_coin, j, 0)\n",
    "            day_coef[j, :] = coef_coin\n",
    "        day_coef = pd.DataFrame(day_coef, columns=stock_return.columns)\n",
    "        nan_positions = np.argwhere(np.isnan(day_coef.values))\n",
    "        for pos in nan_positions:\n",
    "            day_coef.iloc[pos[1], pos[0]] = np.nan\n",
    "        coef_list.append(day_coef)\n",
    "    coef = pd.concat(coef_list, axis=1)\n",
    "    coef.index = stock_return.columns\n",
    "    coef.to_csv(f'{company}/coefficient matrix.csv', index=True, index_label='Company')"
   ]
  },
  {
   "cell_type": "code",
   "execution_count": null,
   "metadata": {},
   "outputs": [],
   "source": []
  }
 ],
 "metadata": {
  "kernelspec": {
   "display_name": "Python 3",
   "language": "python",
   "name": "python3"
  },
  "language_info": {
   "codemirror_mode": {
    "name": "ipython",
    "version": 3
   },
   "file_extension": ".py",
   "mimetype": "text/x-python",
   "name": "python",
   "nbconvert_exporter": "python",
   "pygments_lexer": "ipython3",
   "version": "3.11.6"
  }
 },
 "nbformat": 4,
 "nbformat_minor": 2
}
