{
 "cells": [
  {
   "cell_type": "code",
   "execution_count": 1,
   "metadata": {},
   "outputs": [],
   "source": [
    "import numpy as np\n",
    "import pandas as pd\n",
    "import seaborn as sns\n",
    "import matplotlib.pyplot as plt\n",
    "import os"
   ]
  },
  {
   "cell_type": "code",
   "execution_count": 4,
   "metadata": {},
   "outputs": [],
   "source": [
    "def plot(data, name, figsize=(15, 4), color='royalblue', save=True):\n",
    "    plt.figure(figsize=figsize)\n",
    "    plt.plot(data, linewidth=1, color=color)\n",
    "    plt.ylim(0, 4)\n",
    "    plt.xticks(fontsize=12, fontweight='bold')\n",
    "    plt.yticks(fontsize=12, fontweight='bold')\n",
    "    plt.tight_layout()\n",
    "    if save is True:\n",
    "        plt.savefig(f'{output_path}/{name}.png', dpi=144, transparent=True)\n",
    "        plt.close()\n",
    "    else:\n",
    "        plt.show()"
   ]
  },
  {
   "cell_type": "code",
   "execution_count": 5,
   "metadata": {},
   "outputs": [
    {
     "name": "stdout",
     "output_type": "stream",
     "text": [
      "Cap_63\n",
      "Cap_126\n",
      "Ele_63\n",
      "Ele_126\n",
      "Fin_63\n",
      "Fin_126\n",
      "FinEle_63\n",
      "FinEle_126\n"
     ]
    }
   ],
   "source": [
    "companies = ['Cap_63', 'Cap_126', 'Ele_63', 'Ele_126', 'Fin_63', 'Fin_126', 'FinEle_63', 'FinEle_126']\n",
    "company = 'Cap_63'\n",
    "for company in companies:\n",
    "    print(company)\n",
    "    top = 20\n",
    "    input_path = f'../03 Modeling/{company}'\n",
    "    output_path = f'{company}'\n",
    "    if not os.path.exists(output_path):\n",
    "        os.makedirs(output_path)\n",
    "\n",
    "    full_lambda = pd.read_csv(f'{input_path}/full_lambda.csv', index_col='Date', parse_dates=['Date'])\n",
    "    VIX = pd.read_csv('../00 Data Preprocessing/Input/VIXTWN.csv', index_col='Date', parse_dates=['Date'])\n",
    "    VIX = (VIX - VIX.min()) / (VIX.max() - VIX.min())\n",
    "\n",
    "    FRM = full_lambda.mean(axis=1) * full_lambda.shape[1] / top\n",
    "    plot(FRM, 'FRM (Mean)')\n",
    "\n",
    "    FRM = full_lambda.median(axis=1) * full_lambda.shape[1] / top\n",
    "    plot(FRM, 'FRM (Median)')\n",
    "\n",
    "    # Compare with VIX\n",
    "    FRM = (FRM - FRM.min()) / (FRM.max() - FRM.min())\n",
    "    plt.figure(figsize=(15, 4))\n",
    "    plt.plot(FRM, linewidth=1, color='royalblue')\n",
    "    plt.plot(VIX, linewidth=1.5, color='salmon')\n",
    "    plt.ylim(0, )\n",
    "    plt.xticks(fontsize=12, fontweight='bold')\n",
    "    plt.yticks(fontsize=12, fontweight='bold')\n",
    "    plt.tight_layout()\n",
    "    plt.savefig(f'{output_path}/FRM vs VIX.png', dpi=144, transparent=True)\n",
    "    plt.close()"
   ]
  },
  {
   "cell_type": "code",
   "execution_count": null,
   "metadata": {},
   "outputs": [],
   "source": []
  }
 ],
 "metadata": {
  "kernelspec": {
   "display_name": "Python 3",
   "language": "python",
   "name": "python3"
  },
  "language_info": {
   "codemirror_mode": {
    "name": "ipython",
    "version": 3
   },
   "file_extension": ".py",
   "mimetype": "text/x-python",
   "name": "python",
   "nbconvert_exporter": "python",
   "pygments_lexer": "ipython3",
   "version": "3.11.6"
  }
 },
 "nbformat": 4,
 "nbformat_minor": 2
}
